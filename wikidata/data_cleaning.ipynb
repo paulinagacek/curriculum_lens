{
 "cells": [
  {
   "cell_type": "code",
   "execution_count": 14,
   "metadata": {},
   "outputs": [],
   "source": [
    "import pandas as pd\n",
    "\n",
    "df = pd.read_csv(\"educational_concepts.csv\")\n",
    "df['item'] = df['item'].str.replace(\"http://www.wikidata.org/entity/\", \"\")\n",
    "df['subject'] = df['subject'].str.replace(\"http://www.wikidata.org/entity/\", \"\")\n",
    "df = df[df[\"item\"] != df['itemLabel']]\n",
    "df = df[df[\"subject\"] != df['subjectLabel']]\n",
    "df = df.rename(columns={'item': 'conceptQID', 'itemLabel': 'conceptName', 'subject':'fieldQID', 'subjectLabel': 'fieldName' })\n",
    "\n",
    "df_concepts = df[['conceptQID', 'conceptName']].drop_duplicates()\n",
    "df_concepts.to_csv(\"../data/wikidata_concepts.csv\", index=False)\n",
    "df_fields = df[['fieldQID', 'fieldName']].drop_duplicates()\n",
    "df_fields.to_csv(\"../data/wikidata_fields_of_study.csv\", index=False)\n",
    "\n",
    "df_relationships = df[['conceptQID', 'fieldQID']].drop_duplicates()\n",
    "df_relationships.to_csv(\"../data/wikidata_relationships.csv\", index=False)"
   ]
  }
 ],
 "metadata": {
  "kernelspec": {
   "display_name": ".venv",
   "language": "python",
   "name": "python3"
  },
  "language_info": {
   "codemirror_mode": {
    "name": "ipython",
    "version": 3
   },
   "file_extension": ".py",
   "mimetype": "text/x-python",
   "name": "python",
   "nbconvert_exporter": "python",
   "pygments_lexer": "ipython3",
   "version": "3.10.12"
  }
 },
 "nbformat": 4,
 "nbformat_minor": 2
}
